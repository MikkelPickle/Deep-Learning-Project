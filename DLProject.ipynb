{
 "cells": [
  {
   "cell_type": "markdown",
   "id": "afe3d483-fad5-483a-9cba-02807b72b0bb",
   "metadata": {},
   "source": [
    "Deep Learning Project"
   ]
  },
  {
   "cell_type": "code",
   "execution_count": null,
   "id": "7c3dacf7-4814-4349-b139-fb24229ab77e",
   "metadata": {},
   "outputs": [],
   "source": []
  }
 ],
 "metadata": {
  "kernelspec": {
   "display_name": "Python 3",
   "language": "python",
   "name": "python3"
  },
  "language_info": {
   "codemirror_mode": {
    "name": "ipython",
    "version": 3
   },
   "file_extension": ".py",
   "mimetype": "text/x-python",
   "name": "python",
   "nbconvert_exporter": "python",
   "pygments_lexer": "ipython3",
   "version": "3.8.8"
  }
 },
 "nbformat": 4,
 "nbformat_minor": 5
}
